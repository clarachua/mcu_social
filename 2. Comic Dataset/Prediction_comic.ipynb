{
 "cells": [
  {
   "cell_type": "code",
   "execution_count": 3,
   "metadata": {},
   "outputs": [],
   "source": [
    "import networkx as nx\n",
    "import pandas as pd\n",
    "import numpy as np\n",
    "import matplotlib.pyplot as plt"
   ]
  },
  {
   "cell_type": "code",
   "execution_count": 4,
   "metadata": {},
   "outputs": [],
   "source": [
    "# this is just the original hero network file\n",
    "# we group by to get the duplicate count\n",
    "data1 = pd.read_csv(\"hero-networkA.csv\")\n",
    "data1 = data1.groupby(['hero1','hero2']).size().reset_index()\n",
    "data1.rename(columns = {0: 'weight'}, inplace = True)\n",
    "\n",
    "# this is the file with column switched\n",
    "data2 = pd.read_csv(\"hero-networkB.csv\")\n",
    "data2 = data2.groupby(['hero1','hero2']).size().reset_index()\n",
    "data2.rename(columns = {0: 'weight'}, inplace = True)"
   ]
  },
  {
   "cell_type": "code",
   "execution_count": 5,
   "metadata": {},
   "outputs": [],
   "source": [
    "# we concat to one list\n",
    "dataAll = pd.concat([data1, data2])"
   ]
  },
  {
   "cell_type": "code",
   "execution_count": 6,
   "metadata": {},
   "outputs": [],
   "source": [
    "# we group again so that example A-B and B-A will all add to weights\n",
    "dataAll = dataAll.groupby(['hero1','hero2']).agg({'weight':np.sum}).reset_index()\n",
    "dataAll.rename(columns = {0: 'weight'}, inplace = True)"
   ]
  },
  {
   "cell_type": "code",
   "execution_count": 7,
   "metadata": {},
   "outputs": [
    {
     "data": {
      "text/html": [
       "<div>\n",
       "<style scoped>\n",
       "    .dataframe tbody tr th:only-of-type {\n",
       "        vertical-align: middle;\n",
       "    }\n",
       "\n",
       "    .dataframe tbody tr th {\n",
       "        vertical-align: top;\n",
       "    }\n",
       "\n",
       "    .dataframe thead th {\n",
       "        text-align: right;\n",
       "    }\n",
       "</style>\n",
       "<table border=\"1\" class=\"dataframe\">\n",
       "  <thead>\n",
       "    <tr style=\"text-align: right;\">\n",
       "      <th></th>\n",
       "      <th>hero1</th>\n",
       "      <th>hero2</th>\n",
       "      <th>weight</th>\n",
       "    </tr>\n",
       "  </thead>\n",
       "  <tbody>\n",
       "    <tr>\n",
       "      <th>0</th>\n",
       "      <td>24-HOUR MAN/EMMANUEL</td>\n",
       "      <td>FROST, CARMILLA</td>\n",
       "      <td>1</td>\n",
       "    </tr>\n",
       "    <tr>\n",
       "      <th>1</th>\n",
       "      <td>24-HOUR MAN/EMMANUEL</td>\n",
       "      <td>G'RATH</td>\n",
       "      <td>1</td>\n",
       "    </tr>\n",
       "    <tr>\n",
       "      <th>2</th>\n",
       "      <td>24-HOUR MAN/EMMANUEL</td>\n",
       "      <td>KILLRAVEN/JONATHAN R</td>\n",
       "      <td>1</td>\n",
       "    </tr>\n",
       "    <tr>\n",
       "      <th>3</th>\n",
       "      <td>24-HOUR MAN/EMMANUEL</td>\n",
       "      <td>M'SHULLA</td>\n",
       "      <td>1</td>\n",
       "    </tr>\n",
       "    <tr>\n",
       "      <th>4</th>\n",
       "      <td>24-HOUR MAN/EMMANUEL</td>\n",
       "      <td>OLD SKULL</td>\n",
       "      <td>1</td>\n",
       "    </tr>\n",
       "    <tr>\n",
       "      <th>5</th>\n",
       "      <td>3-D MAN/CHARLES CHAN</td>\n",
       "      <td>AJAK/TECUMOTZIN [ETE</td>\n",
       "      <td>1</td>\n",
       "    </tr>\n",
       "    <tr>\n",
       "      <th>6</th>\n",
       "      <td>3-D MAN/CHARLES CHAN</td>\n",
       "      <td>ANGEL/WARREN KENNETH</td>\n",
       "      <td>1</td>\n",
       "    </tr>\n",
       "    <tr>\n",
       "      <th>7</th>\n",
       "      <td>3-D MAN/CHARLES CHAN</td>\n",
       "      <td>ANT-MAN II/SCOTT HAR</td>\n",
       "      <td>1</td>\n",
       "    </tr>\n",
       "    <tr>\n",
       "      <th>8</th>\n",
       "      <td>3-D MAN/CHARLES CHAN</td>\n",
       "      <td>ANT-MAN/DR. HENRY J.</td>\n",
       "      <td>2</td>\n",
       "    </tr>\n",
       "    <tr>\n",
       "      <th>9</th>\n",
       "      <td>3-D MAN/CHARLES CHAN</td>\n",
       "      <td>ARABIAN KNIGHT/ABDUL</td>\n",
       "      <td>1</td>\n",
       "    </tr>\n",
       "  </tbody>\n",
       "</table>\n",
       "</div>"
      ],
      "text/plain": [
       "                  hero1                 hero2  weight\n",
       "0  24-HOUR MAN/EMMANUEL       FROST, CARMILLA       1\n",
       "1  24-HOUR MAN/EMMANUEL                G'RATH       1\n",
       "2  24-HOUR MAN/EMMANUEL  KILLRAVEN/JONATHAN R       1\n",
       "3  24-HOUR MAN/EMMANUEL              M'SHULLA       1\n",
       "4  24-HOUR MAN/EMMANUEL             OLD SKULL       1\n",
       "5  3-D MAN/CHARLES CHAN  AJAK/TECUMOTZIN [ETE       1\n",
       "6  3-D MAN/CHARLES CHAN  ANGEL/WARREN KENNETH       1\n",
       "7  3-D MAN/CHARLES CHAN  ANT-MAN II/SCOTT HAR       1\n",
       "8  3-D MAN/CHARLES CHAN  ANT-MAN/DR. HENRY J.       2\n",
       "9  3-D MAN/CHARLES CHAN  ARABIAN KNIGHT/ABDUL       1"
      ]
     },
     "execution_count": 7,
     "metadata": {},
     "output_type": "execute_result"
    }
   ],
   "source": [
    "dataAll.head(10)"
   ]
  },
  {
   "cell_type": "code",
   "execution_count": 9,
   "metadata": {},
   "outputs": [],
   "source": [
    "# realised that the edgelist function does not care the order of nodes.\n",
    "# A-B and B-A is the same to it. So it will take the latest copy it finds.\n",
    "# therefore duplicates will be ignored, and the latest copy with correct weight forms the graph\n",
    "g = nx.from_pandas_edgelist(dataAll, 'hero1', 'hero2', edge_attr=True)"
   ]
  },
  {
   "cell_type": "code",
   "execution_count": 12,
   "metadata": {},
   "outputs": [
    {
     "data": {
      "text/plain": [
       "6426"
      ]
     },
     "execution_count": 12,
     "metadata": {},
     "output_type": "execute_result"
    }
   ],
   "source": [
    "# number of nodes = no of unique characters\n",
    "len(g) "
   ]
  },
  {
   "cell_type": "code",
   "execution_count": 231,
   "metadata": {
    "scrolled": true
   },
   "outputs": [
    {
     "name": "stdout",
     "output_type": "stream",
     "text": [
      "THOR/DR. DONALD BLAK has 1289 neighbors in comic books.\n",
      "\n",
      "CAPTAIN AMERICA 386\n",
      "IRON MAN/TONY STARK  344\n",
      "ODIN [ASGARDIAN] 266\n",
      "VISION  255\n",
      "SCARLET WITCH/WANDA  254\n",
      "WASP/JANET VAN DYNE  238\n",
      "HAWK 210\n",
      "BALDER [ASGARDIAN] 209\n",
      "SIF 204\n",
      "ANT-MAN/DR. HENRY J. 189\n",
      "VOLSTAGG 187\n",
      "FANDRAL [ASGARDIAN] 186\n",
      "HOGUN [ASGARDIAN] 186\n",
      "LOKI [ASGARDIAN] 182\n",
      "JARVIS, EDWIN  160\n",
      "MR. FANTASTIC/REED R 129\n",
      "THING/BENJAMIN J. GR 126\n",
      "WONDER MAN/SIMON WIL 125\n",
      "HUMAN TORCH/JOHNNY S 124\n",
      "SHE-HULK/JENNIFER WA 123\n",
      "HERCULES [GREEK GOD] 114\n",
      "KINCAID, DR. JANE FO 112\n",
      "HEIMDALL [ASGARDIAN] 111\n",
      "INVISIBLE WOMAN/SUE  111\n",
      "BLACK PANTHER/T'CHAL 103\n",
      "QUICKSILVER/PIETRO M 99\n",
      "SPIDER-MAN/PETER PAR 95\n",
      "BEAST/HENRY &HANK& P 90\n",
      "CAPTAIN MARVEL II/MO 84\n",
      "ENCHANTRESS/AMORA/HE 78\n",
      "KARNILLA [ASGARDIAN] 76\n",
      "HULK/DR. ROBERT BRUC 72\n",
      "VIZIER 72\n",
      "SUB-MARINER/NAMOR MA 62\n",
      "BLACK WIDOW/NATASHA  61\n"
     ]
    },
    {
     "data": {
      "image/png": "[encoded data removed]",
      "text/plain": [
       "<matplotlib.figure.Figure at 0x1a1428ca0b8>"
      ]
     },
     "metadata": {},
     "output_type": "display_data"
    }
   ],
   "source": [
    "# how many neighbors does certain hero have?\n",
    "print(\"THOR/DR. DONALD BLAK has\", g.degree('THOR/DR. DONALD BLAK'), \"neighbors in comic books.\")\n",
    "\n",
    "# Find neighbor of Thor with weight rank:\n",
    "print()\n",
    "a=[]\n",
    "b=[]\n",
    "for nb in g.adj['THOR/DR. DONALD BLAK']:\n",
    "#    print(nb,g.edges['THOR/DR. DONALD BLAK',nb].get('weight'))\n",
    "    a.append(nb)\n",
    "    b.append(g.edges['THOR/DR. DONALD BLAK',nb].get('weight'))\n",
    "mydict = dict(zip(a, b))\n",
    "import operator\n",
    "sorted_d = sorted(mydict.items(), key=operator.itemgetter(1),reverse=True)\n",
    "plot1=sorted_d[:35]\n",
    "n=[]\n",
    "s=[]\n",
    "thor_comic=[]\n",
    "for i in plot1:\n",
    "    name=i[0]\n",
    "    score=i[1]\n",
    "    n.append(name)\n",
    "    s.append(score)\n",
    "    print(name,score)\n",
    "plt.plot(n, s, 'ro')\n",
    "plt.ylabel('Weight')\n",
    "plt.xticks(rotation=90)\n",
    "plt.show()\n",
    "# plot1=pd.DataFrame.from_records(sorted_d[:35])\n",
    "# plot1.to_excel('weight.xls')"
   ]
  },
  {
   "cell_type": "code",
   "execution_count": 230,
   "metadata": {
    "scrolled": true
   },
   "outputs": [
    {
     "data": {
      "text/plain": [
       "[('CAPTAIN AMERICA', 0.2969649805447471),\n",
       " ('SPIDER-MAN/PETER PAR', 0.2703501945525292),\n",
       " ('IRON MAN/TONY STARK ', 0.23688715953307396),\n",
       " ('THING/BENJAMIN J. GR', 0.2203891050583658),\n",
       " ('MR. FANTASTIC/REED R', 0.21463035019455254),\n",
       " ('WOLVERINE/LOGAN ', 0.21338521400778213),\n",
       " ('HUMAN TORCH/JOHNNY S', 0.21182879377431907),\n",
       " ('SCARLET WITCH/WANDA ', 0.20622568093385216),\n",
       " ('BEAST/HENRY &HANK& P', 0.19719844357976654),\n",
       " ('VISION ', 0.19315175097276266),\n",
       " ('INVISIBLE WOMAN/SUE ', 0.19237354085603114),\n",
       " ('HAWK', 0.18287937743190663),\n",
       " ('WASP/JANET VAN DYNE ', 0.16980544747081713),\n",
       " ('ANT-MAN/DR. HENRY J.', 0.1684046692607004),\n",
       " ('CYCLOPS/SCOTT SUMMER', 0.1682490272373541),\n",
       " ('ANGEL/WARREN KENNETH', 0.16700389105058366),\n",
       " ('STORM/ORORO MUNROE S', 0.16684824902723736),\n",
       " ('SHE-HULK/JENNIFER WA', 0.16669260700389107),\n",
       " ('DR. STRANGE/STEPHEN ', 0.16607003891050584),\n",
       " ('HULK/DR. ROBERT BRUC', 0.1642023346303502),\n",
       " ('WONDER MAN/SIMON WIL', 0.16077821011673152),\n",
       " ('PROFESSOR X/CHARLES ', 0.16062256809338524),\n",
       " ('COLOSSUS II/PETER RA', 0.1595330739299611),\n",
       " ('MARVEL GIRL/JEAN GRE', 0.15642023346303502),\n",
       " ('HERCULES [GREEK GOD]', 0.15424124513618678),\n",
       " ('JARVIS, EDWIN ', 0.15346303501945527),\n",
       " ('SUB-MARINER/NAMOR MA', 0.15237354085603114),\n",
       " ('DAREDEVIL/MATT MURDO', 0.1505058365758755),\n",
       " ('ICEMAN/ROBERT BOBBY ', 0.14708171206225681),\n",
       " ('BLACK WIDOW/NATASHA ', 0.14350194552529183),\n",
       " ('FURY, COL. NICHOLAS ', 0.14350194552529183),\n",
       " ('JAMESON, J. JONAH', 0.14319066147859924),\n",
       " ('QUICKSILVER/PIETRO M', 0.13618677042801558),\n",
       " ('NIGHTCRAWLER/KURT WA', 0.1333852140077821),\n",
       " ('ROGUE /', 0.12933852140077823)]"
      ]
     },
     "execution_count": 230,
     "metadata": {},
     "output_type": "execute_result"
    }
   ],
   "source": [
    "#Map degree centrality of characters in Thor movie series\n",
    "deg_pred = nx.degree_centrality(g)\n",
    "# print(deg_pred)\n",
    "a=[]\n",
    "b=[]\n",
    "c=[]\n",
    "for i in sorted_d :\n",
    "    pred=i[0]\n",
    "    c.append(pred)\n",
    "for j in c:\n",
    "#     print(i,deg_pred[i])\n",
    "    a.append(j)\n",
    "    b.append(deg_pred[j])\n",
    "mydict2 = dict(zip(a, b))\n",
    "import operator\n",
    "sorted_deg = sorted(mydict2.items(), key=operator.itemgetter(1),reverse=True)\n",
    "sorted_deg[:35]\n"
   ]
  },
  {
   "cell_type": "code",
   "execution_count": 229,
   "metadata": {},
   "outputs": [
    {
     "data": {
      "text/plain": [
       "[('CAPTAIN AMERICA', 0.29117451850277637),\n",
       " ('THING/BENJAMIN J. GR', 0.2328401515754794),\n",
       " ('HUMAN TORCH/JOHNNY S', 0.22872890254260173),\n",
       " ('IRON MAN/TONY STARK ', 0.2250559463003753),\n",
       " ('MR. FANTASTIC/REED R', 0.22479166499680184),\n",
       " ('INVISIBLE WOMAN/SUE ', 0.21634025319728656),\n",
       " ('SCARLET WITCH/WANDA ', 0.2127514672442134),\n",
       " ('VISION ', 0.20960675720630023),\n",
       " ('THOR/DR. DONALD BLAK', 0.19950137843080934),\n",
       " ('WASP/JANET VAN DYNE ', 0.19712504344548468),\n",
       " ('HAWK', 0.17699935559191543),\n",
       " ('ANT-MAN/DR. HENRY J.', 0.17109537409584136),\n",
       " ('BEAST/HENRY &HANK& P', 0.15724661925653646),\n",
       " ('WONDER MAN/SIMON WIL', 0.14343968938571033),\n",
       " ('CYCLOPS/SCOTT SUMMER', 0.13570762378904463),\n",
       " ('WOLVERINE/LOGAN ', 0.13148600306420885),\n",
       " ('SPIDER-MAN/PETER PAR', 0.12905500576875092),\n",
       " ('STORM/ORORO MUNROE S', 0.12263532126200975),\n",
       " ('PROFESSOR X/CHARLES ', 0.11651639554050551),\n",
       " ('SHE-HULK/JENNIFER WA', 0.11470897747025914),\n",
       " ('JARVIS, EDWIN ', 0.10922834355453878),\n",
       " ('QUICKSILVER/PIETRO M', 0.10750504133256124),\n",
       " ('COLOSSUS II/PETER RA', 0.10650562989931683),\n",
       " ('MARVEL GIRL/JEAN GRE', 0.10509910492619545),\n",
       " ('ANGEL/WARREN KENNETH', 0.10430400380903608),\n",
       " ('ICEMAN/ROBERT BOBBY ', 0.10247816659950525),\n",
       " ('HULK/DR. ROBERT BRUC', 0.10003836266744544),\n",
       " ('HERCULES [GREEK GOD]', 0.0968387140802977),\n",
       " ('PATRIOT/JEFF MACE', 0.09505857650993206),\n",
       " ('SUB-MARINER/NAMOR MA', 0.08906611663241991),\n",
       " ('BLACK WIDOW/NATASHA ', 0.08524719646916713),\n",
       " ('ROGUE /', 0.08388882385656415),\n",
       " ('NIGHTCRAWLER/KURT WA', 0.07736268553740255),\n",
       " (\"BLACK PANTHER/T'CHAL\", 0.07710081407930372),\n",
       " ('RICHARDS, FRANKLIN B', 0.07617481791516391)]"
      ]
     },
     "execution_count": 229,
     "metadata": {},
     "output_type": "execute_result"
    }
   ],
   "source": [
    "#Map eigenvector centrality of characters in Thor movie series\n",
    "eig_pred = nx.eigenvector_centrality(g,weight='weight')\n",
    "for i in c:\n",
    "    sorted_eig = sorted(eig_pred.items(), key=operator.itemgetter(1),reverse=True)\n",
    "sorted_eig[:35]\n"
   ]
  },
  {
   "cell_type": "code",
   "execution_count": 224,
   "metadata": {},
   "outputs": [
    {
     "data": {
      "text/plain": [
       "[('EXECUTIONER II/SKURG', 0.928727388381958),\n",
       " ('ODIN [ASGARDIAN]', 0.9078078269958496),\n",
       " ('LOKI [ASGARDIAN]', 0.8980997204780579),\n",
       " ('ENCHANTRESS/AMORA/HE', 0.8897565007209778),\n",
       " ('SIF', 0.8771006464958191),\n",
       " ('HEIMDALL [ASGARDIAN]', 0.8732444643974304),\n",
       " ('BALDER [ASGARDIAN]', 0.8708019256591797),\n",
       " ('SURTUR', 0.8683395385742188),\n",
       " ('KINCAID, DR. JANE FO', 0.8629634380340576),\n",
       " ('KRISTA', 0.8620550632476807),\n",
       " ('HAROKIN [ASGARDIAN]', 0.8597990870475769),\n",
       " ('HOGUN [ASGARDIAN]', 0.8588401079177856),\n",
       " ('FANDRAL [ASGARDIAN]', 0.8552932739257812),\n",
       " ('UTGARD-LOKI', 0.8519181609153748),\n",
       " ('VOLSTAGG', 0.8473178148269653),\n",
       " ('TYR', 0.8443272113800049),\n",
       " ('HOBBS, HARRIS', 0.8374972343444824),\n",
       " ('VIZIER', 0.8370747566223145),\n",
       " ('FRIGGA', 0.8365119695663452),\n",
       " ('VOLLA', 0.8284319639205933),\n",
       " ('DESTROYER III', 0.8258792757987976),\n",
       " ('SETH II', 0.8245316743850708),\n",
       " ('HILDEGARDE [ASGARDIA', 0.8231252431869507),\n",
       " ('LORELEI II/MELODI [A', 0.8185877799987793),\n",
       " ('KARNILLA [ASGARDIAN]', 0.8138706684112549),\n",
       " ('NEFFETHESK', 0.8137608170509338),\n",
       " ('PENTIGAAR', 0.8128461837768555),\n",
       " ('DESIGNATE/TARENE', 0.8057832717895508),\n",
       " ('NICHOLS, LORNA', 0.7889728546142578),\n",
       " ('HORUS [EGYPTIAN GOD]', 0.786279559135437),\n",
       " ('TOOTHGNASHER', 0.7849951982498169),\n",
       " ('MALEKITH/MALCOLM KEI', 0.7846379280090332),\n",
       " ('CASE, COL. PRESTON', 0.7820616960525513),\n",
       " ('KURSE/ALGRIM [ASGARD', 0.7819108963012695),\n",
       " ('BETA RAY BILL', 0.7805402278900146)]"
      ]
     },
     "execution_count": 224,
     "metadata": {},
     "output_type": "execute_result"
    }
   ],
   "source": [
    "# Get top 36 most similar characters with Thor\n",
    "import pickle\n",
    "filename = 'node2vec_model 20-25-125.sav'\n",
    "#pickle.dump(model, open(filename, 'wb'))\n",
    "\n",
    "model = pickle.load(open(filename, 'rb'))\n",
    "model.wv.most_similar('THOR/DR. DONALD BLAK',topn=35)"
   ]
  },
  {
   "cell_type": "code",
   "execution_count": 225,
   "metadata": {},
   "outputs": [
    {
     "data": {
      "text/plain": [
       "[(\"DEATHCRY [SHI'AR]\", 0.8271957635879517),\n",
       " ('ANT-MAN/DR. HENRY J.', 0.7780990600585938),\n",
       " ('HERCULES [GREEK GOD]', 0.7637271881103516),\n",
       " ('MANTIS (SPACE PHANTO', 0.7598028779029846),\n",
       " ('PETROVITCH, IVAN', 0.7570921182632446),\n",
       " ('NEUT', 0.7555552124977112),\n",
       " (\"ZA'KEN\", 0.7348362803459167),\n",
       " ('MADAME MASQUE III', 0.7346481680870056),\n",
       " ('TUC', 0.7337144017219543),\n",
       " ('SWORDSMAN III/PHILIP', 0.7301225662231445),\n",
       " ('CARINA/CARINA WALTER', 0.7300289273262024),\n",
       " ('JOCASTA II', 0.7289251685142517),\n",
       " ('VISION ', 0.726361870765686),\n",
       " (\"T'KYLL ALABAR\", 0.7189494967460632),\n",
       " ('TABULA RASA', 0.7109546661376953),\n",
       " ('STORM, CHILI', 0.7104991674423218),\n",
       " ('WATCHLORD/', 0.7066676020622253),\n",
       " ('WASP/JANET VAN DYNE ', 0.7058573961257935),\n",
       " ('PROCTOR', 0.6989647150039673),\n",
       " ('NELIT', 0.6984421610832214)]"
      ]
     },
     "execution_count": 225,
     "metadata": {},
     "output_type": "execute_result"
    }
   ],
   "source": [
    "model.wv.most_similar('BLACK WIDOW/NATASHA ',topn=20)"
   ]
  },
  {
   "cell_type": "code",
   "execution_count": 226,
   "metadata": {
    "scrolled": true
   },
   "outputs": [
    {
     "data": {
      "text/plain": [
       "[('LYNNE, MONICA', 0.8211736679077148),\n",
       " ('NECRODAMUS', 0.7893414497375488),\n",
       " ('ADAMS, NICOLE NIKKI', 0.7757622003555298),\n",
       " ('SWORDSMAN/JACQUES DU', 0.7754400968551636),\n",
       " ('ROSS, EVERETT KENNET', 0.7618798017501831),\n",
       " ('WHITE WOLF/HUNTER', 0.7536892890930176),\n",
       " (\"KILLMONGER, ERIC/N'J\", 0.7512307167053223),\n",
       " ('RED GUARDIAN II/ALEX', 0.750104546546936),\n",
       " ('TAKU', 0.7439490556716919),\n",
       " ('PRESTER JOHN', 0.742969274520874),\n",
       " ('STINGER II/', 0.7412084341049194),\n",
       " ('ANT-MAN/DR. HENRY J.', 0.7402250170707703),\n",
       " ('MASTER PANDEMONIUM/M', 0.7317308187484741),\n",
       " ('BLACK KNIGHT III/EOB', 0.7280455827713013),\n",
       " ('GRIM REAPER/ERIC WIL', 0.7279908657073975),\n",
       " ('VISION ', 0.7267704606056213),\n",
       " ('ZURI', 0.7261205911636353),\n",
       " ('WASP/JANET VAN DYNE ', 0.7252748012542725),\n",
       " ('AMENHOTEP', 0.7234084606170654),\n",
       " ('LLOIGOROTH', 0.7214350700378418)]"
      ]
     },
     "execution_count": 226,
     "metadata": {},
     "output_type": "execute_result"
    }
   ],
   "source": [
    "model.wv.most_similar(\"BLACK PANTHER/T'CHAL\",topn=20)"
   ]
  },
  {
   "cell_type": "code",
   "execution_count": 227,
   "metadata": {
    "scrolled": true
   },
   "outputs": [
    {
     "data": {
      "text/plain": [
       "[('PSYLOCKE/ELISABETH B', 0.8846172094345093),\n",
       " ('CHROME/', 0.8843469619750977),\n",
       " ('ROGUE /', 0.8744920492172241),\n",
       " ('DELGADO', 0.8635722994804382),\n",
       " ('MACTAGGART, JOE', 0.8598717451095581),\n",
       " ('HAZARD/CARTER RYKING', 0.8535719513893127),\n",
       " ('RASPUTIN, MIKHAIL', 0.8491182327270508),\n",
       " ('EJULP', 0.8478350639343262),\n",
       " ('STORM/ORORO MUNROE S', 0.8434261083602905),\n",
       " ('TRION', 0.8420971035957336),\n",
       " ('MARROW/SARAH ', 0.8419917225837708),\n",
       " ('MR. SINISTER/NATHAN ', 0.8386924862861633),\n",
       " ('SISTER MARIA', 0.8299195766448975),\n",
       " ('BRAIN CELL/', 0.8242301940917969),\n",
       " ('WANDERER', 0.8212308883666992),\n",
       " ('MEME', 0.8183774948120117),\n",
       " ('WOLVERINE/LOGAN ', 0.8162658214569092),\n",
       " ('RYKING, ALEXANDER', 0.8130955100059509),\n",
       " ('PAM', 0.8125970363616943),\n",
       " ('AVATAR', 0.8125902414321899)]"
      ]
     },
     "execution_count": 227,
     "metadata": {},
     "output_type": "execute_result"
    }
   ],
   "source": [
    "model.wv.most_similar('GAMBIT/REMY LEBEAU ',topn=20)"
   ]
  },
  {
   "cell_type": "code",
   "execution_count": 228,
   "metadata": {
    "scrolled": true
   },
   "outputs": [
    {
     "data": {
      "text/plain": [
       "[('CLEA', 0.967788577079773),\n",
       " ('WONG', 0.9595887660980225),\n",
       " ('CHANG, IMEI', 0.9040884971618652),\n",
       " ('ANCIENT ONE', 0.8997129797935486),\n",
       " ('RINTRAH', 0.890948474407196),\n",
       " ('WOLFE, SARA', 0.8857549428939819),\n",
       " ('BLESSING, MORGANA', 0.8593155145645142),\n",
       " ('DORMAMMU', 0.8550987839698792),\n",
       " ('BARON MORDO/KARL MOR', 0.8346185088157654),\n",
       " ('BLACK, CYRUS', 0.8286777138710022),\n",
       " ('ASMODEUS', 0.8253239393234253),\n",
       " ('AGAMOTTO', 0.8204836845397949),\n",
       " ('AZRAEL', 0.8200507760047913),\n",
       " ('SHADOW QUEEN/SHIALMA', 0.8171319961547852),\n",
       " ('UMAR', 0.8161966800689697),\n",
       " ('AGGAMON', 0.8161532282829285),\n",
       " ('DR. STRANGER YET', 0.8149229288101196),\n",
       " ('INTERLOPER', 0.8134626150131226),\n",
       " ('SHUMA-GORATH', 0.8111504316329956),\n",
       " ('APPALLA', 0.8105378150939941)]"
      ]
     },
     "execution_count": 228,
     "metadata": {},
     "output_type": "execute_result"
    }
   ],
   "source": [
    "model.wv.most_similar(\"DR. STRANGE/STEPHEN \",topn=20)"
   ]
  },
  {
   "cell_type": "code",
   "execution_count": null,
   "metadata": {},
   "outputs": [],
   "source": []
  }
 ],
 "metadata": {
  "kernelspec": {
   "display_name": "Python 3",
   "language": "python",
   "name": "python3"
  },
  "language_info": {
   "codemirror_mode": {
    "name": "ipython",
    "version": 3
   },
   "file_extension": ".py",
   "mimetype": "text/x-python",
   "name": "python",
   "nbconvert_exporter": "python",
   "pygments_lexer": "ipython3",
   "version": "3.6.4"
  }
 },
 "nbformat": 4,
 "nbformat_minor": 2
}
